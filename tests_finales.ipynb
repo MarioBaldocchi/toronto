{
 "cells": [
  {
   "cell_type": "markdown",
   "metadata": {
    "application/vnd.databricks.v1+cell": {
     "cellMetadata": {},
     "inputWidgets": {},
     "nuid": "8b8f26b1-4a98-4fb4-861e-05320760cd89",
     "showTitle": false,
     "tableResultSettingsMap": {},
     "title": ""
    },
    "id": "lv6DO-LM_aMn"
   },
   "source": [
    "# Práctica spark sql (Etapa 2)"
   ]
  },
  {
   "cell_type": "code",
   "execution_count": 0,
   "metadata": {
    "application/vnd.databricks.v1+cell": {
     "cellMetadata": {
      "byteLimit": 2048000,
      "rowLimit": 10000
     },
     "inputWidgets": {},
     "nuid": "45ffb042-ee18-4bf5-9566-39e43241f699",
     "showTitle": false,
     "tableResultSettingsMap": {},
     "title": ""
    }
   },
   "outputs": [],
   "source": [
    "spark.conf.set(\"fs.azure.account.key.almacenamientomario.dfs.core.windows.net\", \"RiNuZsrg5PbT7l08WnsAWa+MBTophcjIU8yXBetm+oABT0iskgVvdxZIgg3Jk3nJI6Dce9re5YjL+AStZuy3bg==\")"
   ]
  },
  {
   "cell_type": "markdown",
   "metadata": {
    "application/vnd.databricks.v1+cell": {
     "cellMetadata": {},
     "inputWidgets": {},
     "nuid": "addba2d5-9bff-4ebf-954b-b40aa12172db",
     "showTitle": false,
     "tableResultSettingsMap": {},
     "title": ""
    }
   },
   "source": [
    "### Probamos el módulo\n"
   ]
  },
  {
   "cell_type": "code",
   "execution_count": 0,
   "metadata": {
    "application/vnd.databricks.v1+cell": {
     "cellMetadata": {
      "byteLimit": 2048000,
      "rowLimit": 10000
     },
     "inputWidgets": {},
     "nuid": "24ccab82-9c7f-46bd-bd94-d171cecd7a6b",
     "showTitle": false,
     "tableResultSettingsMap": {},
     "title": ""
    }
   },
   "outputs": [
    {
     "output_type": "stream",
     "name": "stdout",
     "output_type": "stream",
     "text": [
      "\u001B[1m* Creating isolated environment: venv+pip...\u001B[0m\n\u001B[1m* Installing packages in isolated environment:\u001B[0m\n  - setuptools\n  - wheel\n\u001B[1m* Getting build dependencies for sdist...\u001B[0m\nrunning egg_info\nwriting toronto_bike.egg-info/PKG-INFO\nwriting dependency_links to toronto_bike.egg-info/dependency_links.txt\nwriting requirements to toronto_bike.egg-info/requires.txt\nwriting top-level names to toronto_bike.egg-info/top_level.txt\nreading manifest file 'toronto_bike.egg-info/SOURCES.txt'\nwriting manifest file 'toronto_bike.egg-info/SOURCES.txt'\n\u001B[1m* Building sdist...\u001B[0m\nrunning sdist\nrunning egg_info\nwriting toronto_bike.egg-info/PKG-INFO\nwriting dependency_links to toronto_bike.egg-info/dependency_links.txt\nwriting requirements to toronto_bike.egg-info/requires.txt\nwriting top-level names to toronto_bike.egg-info/top_level.txt\nreading manifest file 'toronto_bike.egg-info/SOURCES.txt'\nwriting manifest file 'toronto_bike.egg-info/SOURCES.txt'\nrunning check\ncreating toronto_bike-0.0.1\ncreating toronto_bike-0.0.1/toronto_bike\ncreating toronto_bike-0.0.1/toronto_bike.egg-info\ncopying files to toronto_bike-0.0.1...\ncopying README.md -> toronto_bike-0.0.1\ncopying pyproject.toml -> toronto_bike-0.0.1\ncopying toronto_bike/BikeToronto.py -> toronto_bike-0.0.1/toronto_bike\ncopying toronto_bike/UrlToronto.py -> toronto_bike-0.0.1/toronto_bike\ncopying toronto_bike/__innit__.py -> toronto_bike-0.0.1/toronto_bike\ncopying toronto_bike.egg-info/PKG-INFO -> toronto_bike-0.0.1/toronto_bike.egg-info\ncopying toronto_bike.egg-info/SOURCES.txt -> toronto_bike-0.0.1/toronto_bike.egg-info\ncopying toronto_bike.egg-info/dependency_links.txt -> toronto_bike-0.0.1/toronto_bike.egg-info\ncopying toronto_bike.egg-info/requires.txt -> toronto_bike-0.0.1/toronto_bike.egg-info\ncopying toronto_bike.egg-info/top_level.txt -> toronto_bike-0.0.1/toronto_bike.egg-info\nWriting toronto_bike-0.0.1/setup.cfg\nCreating tar archive\nremoving 'toronto_bike-0.0.1' (and everything under it)\n\u001B[1m* Building wheel from sdist\u001B[0m\n\u001B[1m* Creating isolated environment: venv+pip...\u001B[0m\n\u001B[1m* Installing packages in isolated environment:\u001B[0m\n  - setuptools\n  - wheel\n\u001B[1m* Getting build dependencies for wheel...\u001B[0m\nrunning egg_info\nwriting toronto_bike.egg-info/PKG-INFO\nwriting dependency_links to toronto_bike.egg-info/dependency_links.txt\nwriting requirements to toronto_bike.egg-info/requires.txt\nwriting top-level names to toronto_bike.egg-info/top_level.txt\nreading manifest file 'toronto_bike.egg-info/SOURCES.txt'\nwriting manifest file 'toronto_bike.egg-info/SOURCES.txt'\n\u001B[1m* Building wheel...\u001B[0m\nrunning bdist_wheel\nrunning build\nrunning build_py\ncreating build/lib/toronto_bike\ncopying toronto_bike/BikeToronto.py -> build/lib/toronto_bike\ncopying toronto_bike/UrlToronto.py -> build/lib/toronto_bike\ncopying toronto_bike/__innit__.py -> build/lib/toronto_bike\nrunning egg_info\nwriting toronto_bike.egg-info/PKG-INFO\nwriting dependency_links to toronto_bike.egg-info/dependency_links.txt\nwriting requirements to toronto_bike.egg-info/requires.txt\nwriting top-level names to toronto_bike.egg-info/top_level.txt\nreading manifest file 'toronto_bike.egg-info/SOURCES.txt'\nwriting manifest file 'toronto_bike.egg-info/SOURCES.txt'\ninstalling to build/bdist.linux-x86_64/wheel\nrunning install\nrunning install_lib\ncreating build/bdist.linux-x86_64/wheel\ncreating build/bdist.linux-x86_64/wheel/toronto_bike\ncopying build/lib/toronto_bike/BikeToronto.py -> build/bdist.linux-x86_64/wheel/./toronto_bike\ncopying build/lib/toronto_bike/UrlToronto.py -> build/bdist.linux-x86_64/wheel/./toronto_bike\ncopying build/lib/toronto_bike/__innit__.py -> build/bdist.linux-x86_64/wheel/./toronto_bike\nrunning install_egg_info\nCopying toronto_bike.egg-info to build/bdist.linux-x86_64/wheel/./toronto_bike-0.0.1-py3.12.egg-info\nrunning install_scripts\ncreating build/bdist.linux-x86_64/wheel/toronto_bike-0.0.1.dist-info/WHEEL\ncreating '/Workspace/Users/marbaldo@ucm.es/toronto/dist/.tmp-lwgsv8p_/toronto_bike-0.0.1-py3-none-any.whl' and adding 'build/bdist.linux-x86_64/wheel' to it\nadding 'toronto_bike/BikeToronto.py'\nadding 'toronto_bike/UrlToronto.py'\nadding 'toronto_bike/__innit__.py'\nadding 'toronto_bike-0.0.1.dist-info/METADATA'\nadding 'toronto_bike-0.0.1.dist-info/WHEEL'\nadding 'toronto_bike-0.0.1.dist-info/top_level.txt'\nadding 'toronto_bike-0.0.1.dist-info/RECORD'\nremoving build/bdist.linux-x86_64/wheel\n\u001B[1m\u001B[92mSuccessfully built \u001B[4mtoronto_bike-0.0.1.tar.gz\u001B[0m\u001B[1m\u001B[92m and \u001B[4mtoronto_bike-0.0.1-py3-none-any.whl\u001B[0m\u001B[1m\u001B[92m\u001B[0m\n"
     ]
    }
   ],
   "source": [
    "%sh python -m build"
   ]
  },
  {
   "cell_type": "code",
   "execution_count": 0,
   "metadata": {
    "application/vnd.databricks.v1+cell": {
     "cellMetadata": {
      "byteLimit": 2048000,
      "rowLimit": 10000
     },
     "inputWidgets": {},
     "nuid": "9d0bc981-4746-4022-9d0d-bd2672ad5bf0",
     "showTitle": false,
     "tableResultSettingsMap": {},
     "title": ""
    }
   },
   "outputs": [],
   "source": [
    "%restart_python"
   ]
  },
  {
   "cell_type": "code",
   "execution_count": 0,
   "metadata": {
    "application/vnd.databricks.v1+cell": {
     "cellMetadata": {
      "byteLimit": 2048000,
      "rowLimit": 10000
     },
     "inputWidgets": {},
     "nuid": "8df91ad4-4483-474d-ba59-24314c6ed038",
     "showTitle": false,
     "tableResultSettingsMap": {},
     "title": ""
    }
   },
   "outputs": [
    {
     "output_type": "stream",
     "name": "stdout",
     "output_type": "stream",
     "text": [
      "Processing ./dist/toronto_bike-0.0.1-py3-none-any.whl\nCollecting requests (from toronto-bike==0.0.1)\n  Using cached requests-2.32.3-py3-none-any.whl.metadata (4.6 kB)\nCollecting charset-normalizer<4,>=2 (from requests->toronto-bike==0.0.1)\n  Using cached charset_normalizer-3.4.1-cp312-cp312-manylinux_2_17_x86_64.manylinux2014_x86_64.whl.metadata (35 kB)\nCollecting idna<4,>=2.5 (from requests->toronto-bike==0.0.1)\n  Using cached idna-3.10-py3-none-any.whl.metadata (10 kB)\nCollecting urllib3<3,>=1.21.1 (from requests->toronto-bike==0.0.1)\n  Using cached urllib3-2.3.0-py3-none-any.whl.metadata (6.5 kB)\nCollecting certifi>=2017.4.17 (from requests->toronto-bike==0.0.1)\n  Using cached certifi-2025.1.31-py3-none-any.whl.metadata (2.5 kB)\nUsing cached requests-2.32.3-py3-none-any.whl (64 kB)\nUsing cached certifi-2025.1.31-py3-none-any.whl (166 kB)\nUsing cached charset_normalizer-3.4.1-cp312-cp312-manylinux_2_17_x86_64.manylinux2014_x86_64.whl (145 kB)\nUsing cached idna-3.10-py3-none-any.whl (70 kB)\nUsing cached urllib3-2.3.0-py3-none-any.whl (128 kB)\nInstalling collected packages: urllib3, idna, charset-normalizer, certifi, requests, toronto-bike\n  Attempting uninstall: urllib3\n    Found existing installation: urllib3 2.3.0\n    Uninstalling urllib3-2.3.0:\n      Successfully uninstalled urllib3-2.3.0\n  Attempting uninstall: idna\n    Found existing installation: idna 3.10\n    Uninstalling idna-3.10:\n      Successfully uninstalled idna-3.10\n  Attempting uninstall: charset-normalizer\n    Found existing installation: charset-normalizer 3.4.1\n    Uninstalling charset-normalizer-3.4.1:\n      Successfully uninstalled charset-normalizer-3.4.1\n  Attempting uninstall: certifi\n    Found existing installation: certifi 2025.1.31\n    Uninstalling certifi-2025.1.31:\n      Successfully uninstalled certifi-2025.1.31\n  Attempting uninstall: requests\n    Found existing installation: requests 2.32.3\n    Uninstalling requests-2.32.3:\n      Successfully uninstalled requests-2.32.3\n  Attempting uninstall: toronto-bike\n    Found existing installation: toronto_bike 0.0.1\n    Uninstalling toronto_bike-0.0.1:\n      Successfully uninstalled toronto_bike-0.0.1\n\u001B[31mERROR: pip's dependency resolver does not currently take into account all the packages that are installed. This behaviour is the source of the following dependency conflicts.\ngoogle-auth 2.21.0 requires urllib3<2.0, but you have urllib3 2.3.0 which is incompatible.\u001B[0m\u001B[31m\n\u001B[0mSuccessfully installed certifi-2025.1.31 charset-normalizer-3.4.1 idna-3.10 requests-2.32.3 toronto-bike-0.0.1 urllib3-2.3.0\n\u001B[43mNote: you may need to restart the kernel using %restart_python or dbutils.library.restartPython() to use updated packages.\u001B[0m\n"
     ]
    }
   ],
   "source": [
    "%pip install --force-reinstall  ./dist/toronto_bike-0.0.1-py3-none-any.whl"
   ]
  },
  {
   "cell_type": "code",
   "execution_count": 0,
   "metadata": {
    "application/vnd.databricks.v1+cell": {
     "cellMetadata": {
      "byteLimit": 2048000,
      "rowLimit": 10000
     },
     "inputWidgets": {},
     "nuid": "29fc91cf-7393-49f1-b0b7-a749ac48e7ed",
     "showTitle": false,
     "tableResultSettingsMap": {},
     "title": ""
    }
   },
   "outputs": [
    {
     "output_type": "stream",
     "name": "stderr",
     "output_type": "stream",
     "text": [
      "/Workspace/Users/marbaldo@ucm.es/toronto/toronto_bike/UrlToronto.py:44: SyntaxWarning: invalid escape sequence '\\d'\n  \"bikeshare-ridership-\\d{4}.zip$\",\n"
     ]
    }
   ],
   "source": [
    "from  toronto_bike.UrlToronto import UrlToronto\n",
    "temporal ='carpeta_temporal'\n",
    "downloader = UrlToronto(temporal)\n",
    "path_csv = downloader.download_csv('2023', '01')"
   ]
  },
  {
   "cell_type": "code",
   "execution_count": 0,
   "metadata": {
    "application/vnd.databricks.v1+cell": {
     "cellMetadata": {
      "byteLimit": 2048000,
      "rowLimit": 10000
     },
     "inputWidgets": {},
     "nuid": "16f07c9b-75d0-4d54-a7ad-68b305f61a6d",
     "showTitle": false,
     "tableResultSettingsMap": {},
     "title": ""
    }
   },
   "outputs": [],
   "source": [
    "# Si lo habéis hecho bien, esta celda no debe producir ninguna salida\n",
    "assert(path_csv == 'carpeta_temporal/bikeshare-ridership-2023/Bike share ridership 2023-01.csv')"
   ]
  },
  {
   "cell_type": "code",
   "execution_count": 0,
   "metadata": {
    "application/vnd.databricks.v1+cell": {
     "cellMetadata": {
      "byteLimit": 2048000,
      "rowLimit": 10000
     },
     "inputWidgets": {},
     "nuid": "366f998b-aadd-435e-9fe9-5efeb75598f3",
     "showTitle": false,
     "tableResultSettingsMap": {},
     "title": ""
    }
   },
   "outputs": [
    {
     "output_type": "stream",
     "name": "stdout",
     "output_type": "stream",
     "text": [
      "['Trip Id', 'Trip  Duration', 'Start Station Id', 'Start Time', 'Start Station Name', 'End Station Id', 'End Time', 'End Station Name', 'Bike Id', 'User Type']\n"
     ]
    }
   ],
   "source": [
    "from  toronto_bike.BikeToronto import BikeToronto\n",
    "\n",
    "params = 'parametros.json'\n",
    "year = '2023'\n",
    "month = '05'\n",
    "\n",
    "# implementar las llamadas para la creación del dataframe\n",
    "bike_toronto = BikeToronto(params)\n",
    "\n",
    "df = bike_toronto.crear_df(year, month)\n",
    "print(df.columns)"
   ]
  },
  {
   "cell_type": "markdown",
   "metadata": {
    "application/vnd.databricks.v1+cell": {
     "cellMetadata": {},
     "inputWidgets": {},
     "nuid": "6c00f631-76a7-4335-83be-34ffaaff5fb5",
     "showTitle": false,
     "tableResultSettingsMap": {},
     "title": ""
    }
   },
   "source": [
    "Algunos tests"
   ]
  },
  {
   "cell_type": "code",
   "execution_count": 0,
   "metadata": {
    "application/vnd.databricks.v1+cell": {
     "cellMetadata": {
      "byteLimit": 2048000,
      "rowLimit": 10000
     },
     "inputWidgets": {},
     "nuid": "e273be68-6cdb-4515-8d2b-733d2fb03e27",
     "showTitle": false,
     "tableResultSettingsMap": {},
     "title": ""
    }
   },
   "outputs": [],
   "source": [
    "# Si lo habéis hecho bien, esta celda no debe producir ninguna salida\n",
    "assert(len(df.columns) == 10)\n",
    "assert(df.count() == 589217)\n",
    "dtypes = dict(df.dtypes)\n",
    "assert(dtypes['Bike Id'] == \"int\")\n",
    "assert(dtypes[\"Start Station Name\"] == 'string')\n",
    "df_casual, df_anual = bike_toronto.procesar_df(df)\n",
    "assert(df_casual.count() + df_anual.count() == df.count())\n",
    "assert(len(df.columns) == 10)"
   ]
  },
  {
   "cell_type": "markdown",
   "metadata": {
    "application/vnd.databricks.v1+cell": {
     "cellMetadata": {},
     "inputWidgets": {},
     "nuid": "91b60ca6-ae35-4ec3-8f46-79559a65424a",
     "showTitle": false,
     "tableResultSettingsMap": {},
     "title": ""
    }
   },
   "source": [
    "## Tests\n",
    "\n",
    "Define los tests que creas necesarios para comprobar que las clases funcionan correctamente. Los tests deberán estar en un directorio independiente, dentro del proyecto, pero no en el paquete que se distibuye.\n",
    "\n",
    "## Docstrings  y anotaciones de tipos\n",
    "\n",
    "Completar los docstring de todas las funciones. Anotar los tipos de las funciones.\n",
    "\n",
    "\n",
    "## Entrega en el CV\n",
    "La entrega consisitirá en un fichero comprimido `zip` con lo siguiente:\n",
    "- Fichero `whl` con el instalable del paquete generado\n",
    "- Los ficheros del paquete desarrollado, incluyendo los tests.\n",
    "- Este cuaderno de jupyter con las pruebas necesarias usando la clase `BikeToronto`\n",
    "\n"
   ]
  }
 ],
 "metadata": {
  "application/vnd.databricks.v1+notebook": {
   "computePreferences": null,
   "dashboards": [],
   "environmentMetadata": null,
   "language": "python",
   "notebookMetadata": {
    "mostRecentlyExecutedCommandWithImplicitDF": {
     "commandId": 2648705955368567,
     "dataframes": [
      "_sqldf"
     ]
    },
    "pythonIndentUnit": 4
   },
   "notebookName": "tests_finales",
   "widgets": {}
  },
  "colab": {
   "provenance": [],
   "toc_visible": true
  },
  "hide_input": false,
  "kernelspec": {
   "display_name": "Python 3",
   "language": "python",
   "name": "python3"
  },
  "language_info": {
   "name": "python"
  },
  "nbTranslate": {
   "displayLangs": [
    "en",
    "es"
   ],
   "hotkey": "alt-t",
   "langInMainMenu": true,
   "sourceLang": "es",
   "targetLang": "en",
   "useGoogleTranslate": true
  },
  "toc": {
   "base_numbering": 1,
   "nav_menu": {},
   "number_sections": true,
   "sideBar": true,
   "skip_h1_title": false,
   "title_cell": "Table of Contents",
   "title_sidebar": "Contents",
   "toc_cell": false,
   "toc_position": {
    "height": "calc(100% - 180px)",
    "left": "10px",
    "top": "150px",
    "width": "224px"
   },
   "toc_section_display": true,
   "toc_window_display": true
  }
 },
 "nbformat": 4,
 "nbformat_minor": 0
}